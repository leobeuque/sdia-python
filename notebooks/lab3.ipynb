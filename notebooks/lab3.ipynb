{
 "cells": [
  {
   "cell_type": "markdown",
   "source": [
    "# Practical session 3 - Practice with numpy\n",
    "\n",
    "Course: [SDIA-Python](https://github.com/guilgautier/sdia-python)\n",
    "\n",
    "Date: 10/06/2021\n",
    "\n",
    "Instructor: [Guillaume Gautier](https://guilgautier.github.io/)\n",
    "\n",
    "Students (pair):\n",
    "- [Student 1]([link](https://github.com/username1))\n",
    "- [Student 2]([link](https://github.com/username2))"
   ],
   "metadata": {}
  },
  {
   "cell_type": "code",
   "execution_count": 3,
   "source": [
    "%load_ext autoreload\r\n",
    "%autoreload 2\r\n",
    "\r\n",
    "import numpy as np\r\n",
    "from sdia_python.lab2.utils import get_random_number_generator"
   ],
   "outputs": [],
   "metadata": {}
  },
  {
   "cell_type": "code",
   "execution_count": 4,
   "source": [
    "my_array = np.array([0])\r\n",
    "print(type(my_array))\r\n",
    "dir(np.ndarray)"
   ],
   "outputs": [
    {
     "output_type": "stream",
     "name": "stdout",
     "text": [
      "<class 'numpy.ndarray'>\n"
     ]
    },
    {
     "output_type": "execute_result",
     "data": {
      "text/plain": [
       "['T',\n",
       " '__abs__',\n",
       " '__add__',\n",
       " '__and__',\n",
       " '__array__',\n",
       " '__array_finalize__',\n",
       " '__array_function__',\n",
       " '__array_interface__',\n",
       " '__array_prepare__',\n",
       " '__array_priority__',\n",
       " '__array_struct__',\n",
       " '__array_ufunc__',\n",
       " '__array_wrap__',\n",
       " '__bool__',\n",
       " '__class__',\n",
       " '__complex__',\n",
       " '__contains__',\n",
       " '__copy__',\n",
       " '__deepcopy__',\n",
       " '__delattr__',\n",
       " '__delitem__',\n",
       " '__dir__',\n",
       " '__divmod__',\n",
       " '__doc__',\n",
       " '__eq__',\n",
       " '__float__',\n",
       " '__floordiv__',\n",
       " '__format__',\n",
       " '__ge__',\n",
       " '__getattribute__',\n",
       " '__getitem__',\n",
       " '__gt__',\n",
       " '__hash__',\n",
       " '__iadd__',\n",
       " '__iand__',\n",
       " '__ifloordiv__',\n",
       " '__ilshift__',\n",
       " '__imatmul__',\n",
       " '__imod__',\n",
       " '__imul__',\n",
       " '__index__',\n",
       " '__init__',\n",
       " '__init_subclass__',\n",
       " '__int__',\n",
       " '__invert__',\n",
       " '__ior__',\n",
       " '__ipow__',\n",
       " '__irshift__',\n",
       " '__isub__',\n",
       " '__iter__',\n",
       " '__itruediv__',\n",
       " '__ixor__',\n",
       " '__le__',\n",
       " '__len__',\n",
       " '__lshift__',\n",
       " '__lt__',\n",
       " '__matmul__',\n",
       " '__mod__',\n",
       " '__mul__',\n",
       " '__ne__',\n",
       " '__neg__',\n",
       " '__new__',\n",
       " '__or__',\n",
       " '__pos__',\n",
       " '__pow__',\n",
       " '__radd__',\n",
       " '__rand__',\n",
       " '__rdivmod__',\n",
       " '__reduce__',\n",
       " '__reduce_ex__',\n",
       " '__repr__',\n",
       " '__rfloordiv__',\n",
       " '__rlshift__',\n",
       " '__rmatmul__',\n",
       " '__rmod__',\n",
       " '__rmul__',\n",
       " '__ror__',\n",
       " '__rpow__',\n",
       " '__rrshift__',\n",
       " '__rshift__',\n",
       " '__rsub__',\n",
       " '__rtruediv__',\n",
       " '__rxor__',\n",
       " '__setattr__',\n",
       " '__setitem__',\n",
       " '__setstate__',\n",
       " '__sizeof__',\n",
       " '__str__',\n",
       " '__sub__',\n",
       " '__subclasshook__',\n",
       " '__truediv__',\n",
       " '__xor__',\n",
       " 'all',\n",
       " 'any',\n",
       " 'argmax',\n",
       " 'argmin',\n",
       " 'argpartition',\n",
       " 'argsort',\n",
       " 'astype',\n",
       " 'base',\n",
       " 'byteswap',\n",
       " 'choose',\n",
       " 'clip',\n",
       " 'compress',\n",
       " 'conj',\n",
       " 'conjugate',\n",
       " 'copy',\n",
       " 'ctypes',\n",
       " 'cumprod',\n",
       " 'cumsum',\n",
       " 'data',\n",
       " 'diagonal',\n",
       " 'dot',\n",
       " 'dtype',\n",
       " 'dump',\n",
       " 'dumps',\n",
       " 'fill',\n",
       " 'flags',\n",
       " 'flat',\n",
       " 'flatten',\n",
       " 'getfield',\n",
       " 'imag',\n",
       " 'item',\n",
       " 'itemset',\n",
       " 'itemsize',\n",
       " 'max',\n",
       " 'mean',\n",
       " 'min',\n",
       " 'nbytes',\n",
       " 'ndim',\n",
       " 'newbyteorder',\n",
       " 'nonzero',\n",
       " 'partition',\n",
       " 'prod',\n",
       " 'ptp',\n",
       " 'put',\n",
       " 'ravel',\n",
       " 'real',\n",
       " 'repeat',\n",
       " 'reshape',\n",
       " 'resize',\n",
       " 'round',\n",
       " 'searchsorted',\n",
       " 'setfield',\n",
       " 'setflags',\n",
       " 'shape',\n",
       " 'size',\n",
       " 'sort',\n",
       " 'squeeze',\n",
       " 'std',\n",
       " 'strides',\n",
       " 'sum',\n",
       " 'swapaxes',\n",
       " 'take',\n",
       " 'tobytes',\n",
       " 'tofile',\n",
       " 'tolist',\n",
       " 'tostring',\n",
       " 'trace',\n",
       " 'transpose',\n",
       " 'var',\n",
       " 'view']"
      ]
     },
     "metadata": {},
     "execution_count": 4
    }
   ],
   "metadata": {}
  },
  {
   "cell_type": "markdown",
   "source": [
    "Propose at leat 2 ways to create an integer vector of size 100 made of 1s"
   ],
   "metadata": {}
  },
  {
   "cell_type": "code",
   "execution_count": 5,
   "source": [
    "vector1 = np.array([1]*100)\r\n",
    "vector2 = np.ones((1,100))\r\n",
    "vector1"
   ],
   "outputs": [
    {
     "output_type": "execute_result",
     "data": {
      "text/plain": [
       "array([1, 1, 1, 1, 1, 1, 1, 1, 1, 1, 1, 1, 1, 1, 1, 1, 1, 1, 1, 1, 1, 1,\n",
       "       1, 1, 1, 1, 1, 1, 1, 1, 1, 1, 1, 1, 1, 1, 1, 1, 1, 1, 1, 1, 1, 1,\n",
       "       1, 1, 1, 1, 1, 1, 1, 1, 1, 1, 1, 1, 1, 1, 1, 1, 1, 1, 1, 1, 1, 1,\n",
       "       1, 1, 1, 1, 1, 1, 1, 1, 1, 1, 1, 1, 1, 1, 1, 1, 1, 1, 1, 1, 1, 1,\n",
       "       1, 1, 1, 1, 1, 1, 1, 1, 1, 1, 1, 1])"
      ]
     },
     "metadata": {},
     "execution_count": 5
    }
   ],
   "metadata": {}
  },
  {
   "cell_type": "markdown",
   "source": [
    "Create a vector with values ranging from 10 to 49"
   ],
   "metadata": {}
  },
  {
   "cell_type": "code",
   "execution_count": 6,
   "source": [
    "vector_range = np.arange(10,49+1)\r\n",
    "vector_range"
   ],
   "outputs": [
    {
     "output_type": "execute_result",
     "data": {
      "text/plain": [
       "array([10, 11, 12, 13, 14, 15, 16, 17, 18, 19, 20, 21, 22, 23, 24, 25, 26,\n",
       "       27, 28, 29, 30, 31, 32, 33, 34, 35, 36, 37, 38, 39, 40, 41, 42, 43,\n",
       "       44, 45, 46, 47, 48, 49])"
      ]
     },
     "metadata": {},
     "execution_count": 6
    }
   ],
   "metadata": {}
  },
  {
   "cell_type": "markdown",
   "source": [
    "Propose a way to construct the vector $(0.0, 0.2, 0.4, 0.6, 0.8)$"
   ],
   "metadata": {}
  },
  {
   "cell_type": "code",
   "execution_count": 7,
   "source": [
    "np.array([0.0, 0.2,0.4,0.6,0.8])\r\n"
   ],
   "outputs": [
    {
     "output_type": "execute_result",
     "data": {
      "text/plain": [
       "array([0. , 0.2, 0.4, 0.6, 0.8])"
      ]
     },
     "metadata": {},
     "execution_count": 7
    }
   ],
   "metadata": {}
  },
  {
   "cell_type": "code",
   "execution_count": 8,
   "source": [
    "V = np.arange(0, 100, step=20)/100\r\n",
    "V"
   ],
   "outputs": [
    {
     "output_type": "execute_result",
     "data": {
      "text/plain": [
       "array([0. , 0.2, 0.4, 0.6, 0.8])"
      ]
     },
     "metadata": {},
     "execution_count": 8
    }
   ],
   "metadata": {}
  },
  {
   "cell_type": "markdown",
   "source": [
    "Convert a float array into an integer array in place"
   ],
   "metadata": {}
  },
  {
   "cell_type": "code",
   "execution_count": 9,
   "source": [
    "V = np.array([1.0, 2.0, 3.0, 4.0])\r\n",
    "id(V)"
   ],
   "outputs": [
    {
     "output_type": "execute_result",
     "data": {
      "text/plain": [
       "2119433620816"
      ]
     },
     "metadata": {},
     "execution_count": 9
    }
   ],
   "metadata": {}
  },
  {
   "cell_type": "code",
   "execution_count": 10,
   "source": [
    "V = V.astype(int, copy=False)\r\n",
    "V.dtype"
   ],
   "outputs": [
    {
     "output_type": "execute_result",
     "data": {
      "text/plain": [
       "dtype('int32')"
      ]
     },
     "metadata": {},
     "execution_count": 10
    }
   ],
   "metadata": {}
  },
  {
   "cell_type": "markdown",
   "source": [
    "Given a boolean array\r\n",
    "\r\n",
    "- return the indices where True\r\n",
    "- negate the array inplace? "
   ],
   "metadata": {}
  },
  {
   "cell_type": "code",
   "execution_count": 11,
   "source": [
    "bool_arr = np.array([True, False, True, True, True, False])\r\n",
    "np.argwhere(bool_arr == True)[:,0]"
   ],
   "outputs": [
    {
     "output_type": "execute_result",
     "data": {
      "text/plain": [
       "array([0, 2, 3, 4], dtype=int64)"
      ]
     },
     "metadata": {},
     "execution_count": 11
    }
   ],
   "metadata": {}
  },
  {
   "cell_type": "code",
   "execution_count": 12,
   "source": [
    "bool_arr_neg = np.where(bool_arr==True, False, True)\r\n",
    "bool_arr_neg"
   ],
   "outputs": [
    {
     "output_type": "execute_result",
     "data": {
      "text/plain": [
       "array([False,  True, False, False, False,  True])"
      ]
     },
     "metadata": {},
     "execution_count": 12
    }
   ],
   "metadata": {}
  },
  {
   "cell_type": "markdown",
   "source": [
    "Given 2 vectors $u, v$, propose at least\n",
    "\n",
    "- 2 ways to compute the inner product $v^{\\top} u$ (here they must have the same size)\n",
    "- 2 ways to compute the outer product matrix $u v^{\\top}$\n",
    "- 2 ways to compute the outer sum matrix \"$M = u + v^{\\top}$\", where $M_{ij} = u_i + v_j$"
   ],
   "metadata": {}
  },
  {
   "cell_type": "code",
   "execution_count": 13,
   "source": [
    "u = np.array([1, 2, 4, 1])\r\n",
    "v = np.array([0, 5, 3, 1])"
   ],
   "outputs": [],
   "metadata": {}
  },
  {
   "cell_type": "code",
   "execution_count": 14,
   "source": [
    "# Inner Product\r\n",
    "\r\n",
    "prod1 = np.dot(v.T,u)\r\n",
    "prod2 = np.inner(u,v)\r\n",
    "prod2"
   ],
   "outputs": [
    {
     "output_type": "execute_result",
     "data": {
      "text/plain": [
       "23"
      ]
     },
     "metadata": {},
     "execution_count": 14
    }
   ],
   "metadata": {}
  },
  {
   "cell_type": "code",
   "execution_count": 15,
   "source": [
    "outer1 = np.outer(u,v)"
   ],
   "outputs": [],
   "metadata": {}
  },
  {
   "cell_type": "markdown",
   "source": [
    "Given the following matrix\n",
    "\n",
    "$$\n",
    "M = \n",
    "\\begin{pmatrix}\n",
    "    0 & 1 & 2 \\\\\n",
    "    3 & 4 & 5 \\\\\n",
    "    6 & 7 & 8 \\\\\n",
    "\\end{pmatrix}\n",
    "$$\n",
    "\n",
    "- Create $M$ using as a list of lists and access the element in the middle\n",
    "- Propose at least 2 ways to create $M$ using numpy and access the element in the middle\n",
    "- Swap its first and second row\n",
    "- Propose at least 3 ways to extract the submatrix $\\begin{pmatrix}4 & 5 \\\\7 & 8 \\\\\\end{pmatrix}$\n",
    "- Propose at least 2 ways to extract the diagonal of $M$\n",
    "- Propose at least 2 ways to compute $M^3$\n",
    "- Compute $v^{\\top} M$, resp. $M N$ for a vector, resp. a matrix of your choice. \n",
    "- Propose 2 ways to \"vectorize\" the matrix, i.e., transform it into\n",
    "  - $(0, 1, 2, 3, 4, 5, 6, 7, 8)$\n",
    "  - $(0, 3, 6, 1, 4, 7, 2, 5, 8)$\n",
    "- Consider $v = (1, 2 , 3)$, compute the\n",
    "  - row-wise multiplication of $M$ by $v$ ($M_{i\\cdot}$ is multiplied by $v_i$)\n",
    "  - column-wise multiplication of $M$ by $v$ ($M_{\\cdot j}$ is multiplied by $v_i$)"
   ],
   "metadata": {}
  },
  {
   "cell_type": "code",
   "execution_count": 16,
   "source": [
    "M = [[0,1,2],\r\n",
    "     [3,4,5],\r\n",
    "     [6,7,8]]\r\n",
    "M[1][1]"
   ],
   "outputs": [
    {
     "output_type": "execute_result",
     "data": {
      "text/plain": [
       "4"
      ]
     },
     "metadata": {},
     "execution_count": 16
    }
   ],
   "metadata": {}
  },
  {
   "cell_type": "code",
   "execution_count": 17,
   "source": [
    "M = np.array(M)\r\n",
    "M = np.arange(0,9).reshape((3,3))\r\n",
    "M\r\n",
    "\r\n"
   ],
   "outputs": [
    {
     "output_type": "execute_result",
     "data": {
      "text/plain": [
       "array([[0, 1, 2],\n",
       "       [3, 4, 5],\n",
       "       [6, 7, 8]])"
      ]
     },
     "metadata": {},
     "execution_count": 17
    }
   ],
   "metadata": {}
  },
  {
   "cell_type": "code",
   "execution_count": 18,
   "source": [
    "# Swapping first 2 rows\r\n",
    "M[[0, 1]] = M[[1, 0]]\r\n",
    "M"
   ],
   "outputs": [
    {
     "output_type": "execute_result",
     "data": {
      "text/plain": [
       "array([[3, 4, 5],\n",
       "       [0, 1, 2],\n",
       "       [6, 7, 8]])"
      ]
     },
     "metadata": {},
     "execution_count": 18
    }
   ],
   "metadata": {}
  },
  {
   "cell_type": "code",
   "execution_count": 19,
   "source": [
    "# Extract submatrix\r\n",
    "M = np.arange(0,9).reshape((3,3))\r\n",
    "sub1 = M[1:,1:]\r\n",
    "sub2 = M[[1,2]].T[[1,2]].T\r\n",
    "sub3 = M[np.logical_and(M>3,M!=6)].reshape((2,2))"
   ],
   "outputs": [],
   "metadata": {}
  },
  {
   "cell_type": "code",
   "execution_count": null,
   "source": [
    "# Extract diagonal\r\n",
    "np.diag(M)\r\n",
    "M.diagonal()"
   ],
   "outputs": [],
   "metadata": {}
  },
  {
   "cell_type": "code",
   "execution_count": 30,
   "source": [
    "# Compute M^3\r\n",
    "\r\n",
    "product_3 = np.dot(np.dot(M,M),M)\r\n",
    "product_3 = np.linalg.matrix_power(M, 3)\r\n",
    "product_3"
   ],
   "outputs": [
    {
     "output_type": "execute_result",
     "data": {
      "text/plain": [
       "array([[ 180,  234,  288],\n",
       "       [ 558,  720,  882],\n",
       "       [ 936, 1206, 1476]])"
      ]
     },
     "metadata": {},
     "execution_count": 30
    }
   ],
   "metadata": {}
  },
  {
   "cell_type": "code",
   "execution_count": 31,
   "source": [
    "v = np.arange(1,4)\r\n",
    "np.dot(v,M)"
   ],
   "outputs": [
    {
     "output_type": "execute_result",
     "data": {
      "text/plain": [
       "array([24, 30, 36])"
      ]
     },
     "metadata": {},
     "execution_count": 31
    }
   ],
   "metadata": {}
  },
  {
   "cell_type": "code",
   "execution_count": 32,
   "source": [
    "N = M.T + np.outer(v,v)\r\n",
    "np.dot(M,N)"
   ],
   "outputs": [
    {
     "output_type": "execute_result",
     "data": {
      "text/plain": [
       "array([[ 13,  30,  47],\n",
       "       [ 40, 102, 164],\n",
       "       [ 67, 174, 281]])"
      ]
     },
     "metadata": {},
     "execution_count": 32
    }
   ],
   "metadata": {}
  },
  {
   "cell_type": "code",
   "execution_count": 33,
   "source": [
    "M.ravel()\r\n",
    "M.flatten()"
   ],
   "outputs": [
    {
     "output_type": "execute_result",
     "data": {
      "text/plain": [
       "array([0, 1, 2, 3, 4, 5, 6, 7, 8])"
      ]
     },
     "metadata": {},
     "execution_count": 33
    }
   ],
   "metadata": {}
  },
  {
   "cell_type": "code",
   "execution_count": 34,
   "source": [
    "M.T.ravel()\r\n",
    "M.T.flatten()"
   ],
   "outputs": [
    {
     "output_type": "execute_result",
     "data": {
      "text/plain": [
       "array([0, 3, 6, 1, 4, 7, 2, 5, 8])"
      ]
     },
     "metadata": {},
     "execution_count": 34
    }
   ],
   "metadata": {}
  },
  {
   "cell_type": "code",
   "execution_count": 35,
   "source": [
    "v = np.arange(1,4)\r\n",
    "np.multiply(v,M.T).T"
   ],
   "outputs": [
    {
     "output_type": "execute_result",
     "data": {
      "text/plain": [
       "array([[ 0,  1,  2],\n",
       "       [ 6,  8, 10],\n",
       "       [18, 21, 24]])"
      ]
     },
     "metadata": {},
     "execution_count": 35
    }
   ],
   "metadata": {}
  },
  {
   "cell_type": "code",
   "execution_count": 36,
   "source": [
    "v = np.arange(1,4)\r\n",
    "np.multiply(v,M)"
   ],
   "outputs": [
    {
     "output_type": "execute_result",
     "data": {
      "text/plain": [
       "array([[ 0,  2,  6],\n",
       "       [ 3,  8, 15],\n",
       "       [ 6, 14, 24]])"
      ]
     },
     "metadata": {},
     "execution_count": 36
    }
   ],
   "metadata": {}
  },
  {
   "cell_type": "markdown",
   "source": [
    "Write a function `is_symmetric` that checks whether a given n x n matrix is symmetric, and provide an example"
   ],
   "metadata": {}
  },
  {
   "cell_type": "code",
   "execution_count": 20,
   "source": [
    "M = np.arange(0,9).reshape((3,3))\r\n",
    "\r\n",
    "def is_symmetric(M):\r\n",
    "    assert M.shape[0] == M.shape[1] and len(np.shape(M)) == 2\r\n",
    "    return np.all(M.T == M)\r\n",
    "print(is_symmetric(M))\r\n",
    "print(is_symmetric(np.dot(M.T,M)))"
   ],
   "outputs": [
    {
     "output_type": "stream",
     "name": "stdout",
     "text": [
      "False\n",
      "True\n"
     ]
    }
   ],
   "metadata": {}
  },
  {
   "cell_type": "markdown",
   "source": [
    "## Random\n",
    "\n",
    "REQUIREMENT: USE THE FUNCTION `get_random_number_generator` as previously used in Lab 2."
   ],
   "metadata": {}
  },
  {
   "cell_type": "code",
   "execution_count": 21,
   "source": [
    "from sdia_python.lab2.utils import get_random_number_generator"
   ],
   "outputs": [],
   "metadata": {}
  },
  {
   "cell_type": "code",
   "execution_count": 22,
   "source": [
    "rng  = get_random_number_generator(12345)"
   ],
   "outputs": [],
   "metadata": {}
  },
  {
   "cell_type": "markdown",
   "source": [
    "Consider the Bernoulli(0.4) distribution\n",
    "\n",
    "- Propose at least 2 ways to generate n=1000 samples from it\n",
    "- Compute the empirical mean and variance"
   ],
   "metadata": {}
  },
  {
   "cell_type": "code",
   "execution_count": 23,
   "source": [
    "bernoulli_vecteur = rng.binomial(size=1000, n=1, p= 0.4)\r\n",
    "print('Moyenne empirique :' + str(bernoulli_vecteur.mean()))\r\n",
    "print('Variance empirique :' + str(bernoulli_vecteur.std()**2))"
   ],
   "outputs": [
    {
     "output_type": "stream",
     "name": "stdout",
     "text": [
      "Moyenne empirique :0.38\n",
      "Variance empirique :0.23560000000000006\n"
     ]
    }
   ],
   "metadata": {}
  },
  {
   "cell_type": "code",
   "execution_count": null,
   "source": [],
   "outputs": [],
   "metadata": {}
  },
  {
   "cell_type": "markdown",
   "source": [
    "Consider a random matrix of size $50 \\times 100$, filled with i.i.d. standard Gaussian variables, compute\n",
    "\n",
    "- the absolute value of each entry\n",
    "- the sum of each row\n",
    "- the sum of each colomn \n",
    "- the (euclidean) norm of each row\n",
    "- the (euclidean) norm of each column"
   ],
   "metadata": {}
  },
  {
   "cell_type": "code",
   "execution_count": 24,
   "source": [
    "gaussian_matrix = rng.standard_normal(size=((50,100)))"
   ],
   "outputs": [],
   "metadata": {}
  },
  {
   "cell_type": "code",
   "execution_count": 25,
   "source": [
    "# Absolute value of each entry\r\n",
    "\r\n",
    "gaussian_matrix_abs = np.abs(gaussian_matrix)"
   ],
   "outputs": [],
   "metadata": {}
  },
  {
   "cell_type": "code",
   "execution_count": 26,
   "source": [
    "# sum of each row\r\n",
    "\r\n",
    "np.sum(gaussian_matrix, axis = 0)"
   ],
   "outputs": [
    {
     "output_type": "execute_result",
     "data": {
      "text/plain": [
       "array([ 10.1668517 ,   9.71761874,   1.30806307,   5.85512659,\n",
       "        -8.36970104,  -6.29317955,   4.52777165,   8.59737463,\n",
       "        -2.23673678,  -4.38207594,  -8.79147924,   4.09750423,\n",
       "         6.50177066,   0.97617598,  -2.68295368,  -2.18239086,\n",
       "        -7.47997719,  -3.53821856,   4.27884645,   4.48447616,\n",
       "         2.52343957,  -3.00707526,   4.4561637 ,   1.68422022,\n",
       "        -1.972696  ,  -1.62165023,   7.50420451,  12.54940219,\n",
       "         2.44978792,  -6.10020837,   0.95679879,  10.21700259,\n",
       "        10.02867782,   2.79082113,   5.75694722,   9.40107998,\n",
       "        -2.45406322,  -9.29295166,  -3.07897693,  -3.7526096 ,\n",
       "        -2.74541806,   5.09078095, -10.30953247,   2.08166008,\n",
       "        -7.67368233,   3.12968574,  -4.48434146, -11.03588772,\n",
       "         6.83984536,   3.34835929,  -0.7354625 ,   7.31809901,\n",
       "         6.01139114,   2.45309644,   7.07192409,  -9.21548559,\n",
       "         2.59508039,  -3.52709   ,   3.1926959 ,   0.76540706,\n",
       "        -1.60774329,  -2.78275097,   6.12017678,  -5.16664671,\n",
       "        -4.17121175,   3.02784449,  10.60454488,  -1.29256206,\n",
       "        -1.81687177,  -4.33980405,  -6.41209654,   8.22987243,\n",
       "        -3.31593844,  -2.50183834,  -5.35589063,  -8.88827023,\n",
       "        -1.34876515,  -2.70992073,   1.13024429,  -0.24848387,\n",
       "        15.06627585,   6.72708572,   6.22651544, -23.53650984,\n",
       "         4.33123442,  -8.1412017 ,  -0.49820629,   2.28731173,\n",
       "        -2.37349945,  -3.1216532 ,   1.67138383,  -3.77956509,\n",
       "        -2.51869126,   1.53748114,   3.48931337,  -2.61679877,\n",
       "         1.58162314,  -9.09093286,   0.37910325,  -3.72473322])"
      ]
     },
     "metadata": {},
     "execution_count": 26
    }
   ],
   "metadata": {}
  },
  {
   "cell_type": "code",
   "execution_count": 27,
   "source": [
    "# sum of each column\r\n",
    "\r\n",
    "np.sum(gaussian_matrix, axis = 0)"
   ],
   "outputs": [
    {
     "output_type": "execute_result",
     "data": {
      "text/plain": [
       "array([ 10.1668517 ,   9.71761874,   1.30806307,   5.85512659,\n",
       "        -8.36970104,  -6.29317955,   4.52777165,   8.59737463,\n",
       "        -2.23673678,  -4.38207594,  -8.79147924,   4.09750423,\n",
       "         6.50177066,   0.97617598,  -2.68295368,  -2.18239086,\n",
       "        -7.47997719,  -3.53821856,   4.27884645,   4.48447616,\n",
       "         2.52343957,  -3.00707526,   4.4561637 ,   1.68422022,\n",
       "        -1.972696  ,  -1.62165023,   7.50420451,  12.54940219,\n",
       "         2.44978792,  -6.10020837,   0.95679879,  10.21700259,\n",
       "        10.02867782,   2.79082113,   5.75694722,   9.40107998,\n",
       "        -2.45406322,  -9.29295166,  -3.07897693,  -3.7526096 ,\n",
       "        -2.74541806,   5.09078095, -10.30953247,   2.08166008,\n",
       "        -7.67368233,   3.12968574,  -4.48434146, -11.03588772,\n",
       "         6.83984536,   3.34835929,  -0.7354625 ,   7.31809901,\n",
       "         6.01139114,   2.45309644,   7.07192409,  -9.21548559,\n",
       "         2.59508039,  -3.52709   ,   3.1926959 ,   0.76540706,\n",
       "        -1.60774329,  -2.78275097,   6.12017678,  -5.16664671,\n",
       "        -4.17121175,   3.02784449,  10.60454488,  -1.29256206,\n",
       "        -1.81687177,  -4.33980405,  -6.41209654,   8.22987243,\n",
       "        -3.31593844,  -2.50183834,  -5.35589063,  -8.88827023,\n",
       "        -1.34876515,  -2.70992073,   1.13024429,  -0.24848387,\n",
       "        15.06627585,   6.72708572,   6.22651544, -23.53650984,\n",
       "         4.33123442,  -8.1412017 ,  -0.49820629,   2.28731173,\n",
       "        -2.37349945,  -3.1216532 ,   1.67138383,  -3.77956509,\n",
       "        -2.51869126,   1.53748114,   3.48931337,  -2.61679877,\n",
       "         1.58162314,  -9.09093286,   0.37910325,  -3.72473322])"
      ]
     },
     "metadata": {},
     "execution_count": 27
    }
   ],
   "metadata": {}
  },
  {
   "cell_type": "code",
   "execution_count": 28,
   "source": [
    "# Euclidian norm of each row\r\n",
    "\r\n",
    "np.linalg.norm(gaussian_matrix, axis=1)"
   ],
   "outputs": [
    {
     "output_type": "execute_result",
     "data": {
      "text/plain": [
       "array([10.23738215,  9.7896519 , 10.66212665, 10.84060691,  9.97163826,\n",
       "       10.14451937,  9.57549885,  9.39155066,  9.92436839, 10.56515226,\n",
       "        9.78287489,  9.99748559,  9.24751519, 11.19438283, 10.23960282,\n",
       "       11.29213553,  9.95005485,  8.7319822 , 10.02792383,  9.57037553,\n",
       "        9.87376312,  9.97718424, 10.46619171,  9.64822723, 10.24018225,\n",
       "       10.13187877, 10.3727857 ,  8.91769443, 11.37256516,  9.67807373,\n",
       "        9.68206814,  9.20979901, 11.2504958 , 10.04211369,  9.62841352,\n",
       "       10.11920325, 12.07412954,  9.99149241, 10.34254612, 10.3440063 ,\n",
       "        9.6435792 , 10.00318232,  9.88945353,  9.67525552, 10.02247881,\n",
       "        9.97254095,  9.97414744, 10.46114091,  9.49625293, 10.49780726])"
      ]
     },
     "metadata": {},
     "execution_count": 28
    }
   ],
   "metadata": {}
  },
  {
   "cell_type": "code",
   "execution_count": 29,
   "source": [
    "# Euclidian norm of each column\r\n",
    "\r\n",
    "np.linalg.norm(gaussian_matrix, axis=0)"
   ],
   "outputs": [
    {
     "output_type": "execute_result",
     "data": {
      "text/plain": [
       "array([7.84590824, 6.15487685, 6.69974549, 7.32977792, 5.6299983 ,\n",
       "       7.85986684, 6.58094203, 5.60120238, 7.54612609, 7.20865494,\n",
       "       6.51470934, 6.68268692, 7.54323428, 6.81286313, 6.9142118 ,\n",
       "       7.52624863, 8.00477507, 7.30251209, 7.44109681, 6.93521575,\n",
       "       7.38666549, 6.8219872 , 7.55112175, 7.64357189, 7.93666946,\n",
       "       6.56427476, 6.79265212, 7.63550501, 7.57878964, 7.51912607,\n",
       "       9.31874992, 7.29256025, 8.03841047, 6.09086253, 7.16030185,\n",
       "       8.36758765, 7.66130198, 7.23015192, 7.01494867, 6.1782841 ,\n",
       "       8.04132156, 6.37686286, 7.49280234, 7.47862956, 7.96071296,\n",
       "       6.22420193, 7.14992013, 7.10241282, 6.80485945, 6.68329776,\n",
       "       6.04967503, 8.35728121, 7.61961805, 6.10871271, 7.38223514,\n",
       "       6.74345115, 7.58942049, 7.52731295, 6.83227608, 7.60616336,\n",
       "       7.12662784, 7.84006242, 7.74437752, 7.63690215, 7.60104035,\n",
       "       6.58125413, 8.09654984, 7.01155218, 7.1501123 , 7.45457144,\n",
       "       7.24671713, 6.62969291, 7.91500006, 6.88048759, 5.13218081,\n",
       "       7.03283215, 7.45566582, 7.69978024, 7.30899697, 6.50281388,\n",
       "       7.22159435, 5.53477548, 5.98190403, 7.71173062, 6.77440955,\n",
       "       7.66765155, 6.55456836, 7.53137523, 6.9146395 , 5.36428231,\n",
       "       7.18221451, 6.04377845, 7.35378736, 7.10022628, 6.89458442,\n",
       "       6.8293371 , 7.85294541, 6.53262181, 6.5879438 , 6.06416488])"
      ]
     },
     "metadata": {},
     "execution_count": 29
    }
   ],
   "metadata": {}
  },
  {
   "cell_type": "markdown",
   "source": [],
   "metadata": {}
  }
 ],
 "metadata": {
  "kernelspec": {
   "name": "python3",
   "display_name": "Python 3.8.11 64-bit ('sdia-python': conda)"
  },
  "language_info": {
   "codemirror_mode": {
    "name": "ipython",
    "version": 3
   },
   "file_extension": ".py",
   "mimetype": "text/x-python",
   "name": "python",
   "nbconvert_exporter": "python",
   "pygments_lexer": "ipython3",
   "version": "3.8.11"
  },
  "toc": {
   "base_numbering": 1,
   "nav_menu": {},
   "number_sections": false,
   "sideBar": true,
   "skip_h1_title": true,
   "title_cell": "Lecture Outline",
   "title_sidebar": "Contents",
   "toc_cell": true,
   "toc_position": {},
   "toc_section_display": true,
   "toc_window_display": true
  },
  "interpreter": {
   "hash": "02e2307ac4c551bd5c07068616430c4ec8b63f96a8632036fdc146f9312d9193"
  }
 },
 "nbformat": 4,
 "nbformat_minor": 4
}
